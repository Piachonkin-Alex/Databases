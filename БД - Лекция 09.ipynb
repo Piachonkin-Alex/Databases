{
 "cells": [
  {
   "cell_type": "markdown",
   "metadata": {
    "slideshow": {
     "slide_type": "slide"
    }
   },
   "source": [
    "# Базы данных\n",
    "\n",
    "## Лекция 9\n",
    "\n",
    "### Работа с базами данных в Python. Курсоры. ORM\n",
    "\n",
    "МФТИ ФПМИ 2021"
   ]
  },
  {
   "cell_type": "markdown",
   "metadata": {},
   "source": [
    "[Python DB API 2.0](https://www.python.org/dev/peps/pep-0249/) - стандарт интерфейсов для пакетов, работающих с БД"
   ]
  },
  {
   "cell_type": "markdown",
   "metadata": {
    "slideshow": {
     "slide_type": "slide"
    }
   },
   "source": [
    "Для PostgreSQL: [psycopg2](http://initd.org/psycopg/)"
   ]
  },
  {
   "cell_type": "code",
   "execution_count": 1,
   "metadata": {
    "slideshow": {
     "slide_type": "subslide"
    }
   },
   "outputs": [],
   "source": [
    "try:\n",
    "    import psycopg2\n",
    "except:\n",
    "    !pip install psycopg2-binary"
   ]
  },
  {
   "cell_type": "markdown",
   "metadata": {
    "slideshow": {
     "slide_type": "slide"
    }
   },
   "source": [
    "## Курсор\n",
    "\n",
    "Вместо того чтобы сразу выполнять весь запрос, есть возможность настроить курсор, инкапсулирующий запрос, и затем получать результат запроса по нескольку строк за раз. Одна из причин так делать заключается в том, чтобы избежать переполнения памяти, когда результат содержит большое количество строк.\n",
    "\n",
    "В PL/pgSQL:\n",
    "```sql\n",
    "name [ [ NO ] SCROLL ] CURSOR [ ( arguments ) ] FOR query;\n",
    "```\n",
    "\n",
    "\n",
    "```sql\n",
    "DECLARE\n",
    "    curs1 refcursor;\n",
    "    curs2 CURSOR FOR SELECT * FROM tenk1;\n",
    "    curs3 CURSOR (key integer) FOR SELECT * FROM tenk1 WHERE unique1 = key;\n",
    "```"
   ]
  },
  {
   "cell_type": "markdown",
   "metadata": {},
   "source": [
    "### Открывание курсора\n",
    "\n",
    "\n",
    "```sql\n",
    "OPEN unbound_cursorvar [ [ NO ] SCROLL ] FOR query;\n",
    "\n",
    "OPEN curs1 FOR SELECT * FROM foo WHERE key = mykey;\n",
    "OPEN curs2;\n",
    "```\n",
    "\n",
    "### Открывание курсора на EXECUTE\n",
    "\n",
    "\n",
    "```sql\n",
    "OPEN unbound_cursorvar [ [ NO ] SCROLL ] FOR EXECUTE query_string\n",
    "                                     [ USING expression [, ... ] ];\n",
    "\n",
    "OPEN curs1 FOR EXECUTE 'SELECT * FROM ' || quote_ident(tabname)\n",
    "                                        || ' WHERE col1 = $1' USING keyvalue;\n",
    "```"
   ]
  },
  {
   "cell_type": "markdown",
   "metadata": {},
   "source": [
    "### Передача параметров в курсор\n",
    "\n",
    "```sql\n",
    "DECLARE\n",
    "    -- Переменная обязательно вводится до курсора\n",
    "    key integer;\n",
    "    curs4 CURSOR FOR SELECT * FROM tenk1 WHERE unique1 = key;\n",
    "    curs3 CURSOR (key integer) FOR SELECT * FROM tenk1 WHERE unique1 = key;\n",
    "BEGIN\n",
    "    key := 42;\n",
    "    OPEN curs4;\n",
    "    OPEN curs3(42);\n",
    "```\n",
    "\n",
    "Если необходимо освободить ресурсы до завершения транзакции или освободить переменную курсора для повторного открывания, можно закрыть уже открытый курсор:\n",
    "\n",
    "```sql\n",
    "CLOSE cursor;\n",
    "\n",
    "CLOSE curs1;\n",
    "```"
   ]
  },
  {
   "cell_type": "markdown",
   "metadata": {},
   "source": [
    "## Использование курсоров\n",
    "\n",
    "Как только курсор открыт, можно начинать работу с данными\n",
    "\n",
    "## FETCH\n",
    "\n",
    "FETCH извлекает строку из курсора в заданный таргет.\n",
    "\n",
    "```sql\n",
    "FETCH [ direction { FROM | IN } ] cursor INTO target;\n",
    "```\n",
    "\n",
    "В качестве direction могут использоваться: NEXT, FIRST, LAST, ABSOLUTE count, RELATIVE count и т.д.\n",
    "\n",
    "```sql\n",
    "FETCH curs1 INTO rowvar;\n",
    "FETCH curs2 INTO foo, bar, baz;\n",
    "FETCH LAST FROM curs3 INTO x, y;\n",
    "FETCH RELATIVE -2 FROM curs4 INTO x;\n",
    "```"
   ]
  },
  {
   "cell_type": "code",
   "execution_count": 2,
   "metadata": {},
   "outputs": [
    {
     "name": "stdout",
     "output_type": "stream",
     "text": [
      "('Hello, world!', 42)\n"
     ]
    }
   ],
   "source": [
    "# Соединение с уже существующей базой данных\n",
    "conn =  psycopg2.connect(dbname=\"postgres\", user=\"merkureva\", password=\"1234\", host=\"localhost\")\n",
    "# Открывание курсора для работы с базой\n",
    "cur = conn.cursor()\n",
    "# Отправка запроса в базу\n",
    "cur.execute(\"select 'Hello, world!', 6 * 7\")\n",
    "# Получение одной строки с результатом запроса\n",
    "print(cur.fetchone())\n",
    "conn.close()"
   ]
  },
  {
   "cell_type": "markdown",
   "metadata": {},
   "source": [
    "Не забываем закрывать соединение! <br>\n",
    "**Connection - это ресурс, который может и закончиться.** <br>\n",
    "В этом нам помогут контекстные менеджеры."
   ]
  },
  {
   "cell_type": "code",
   "execution_count": 3,
   "metadata": {},
   "outputs": [],
   "source": [
    "# Не делайте так. Используйте конфиг файлы\n",
    "params = dict(dbname=\"postgres\", user=\"merkureva\", password=\"1234\", host=\"localhost\")"
   ]
  },
  {
   "cell_type": "markdown",
   "metadata": {
    "slideshow": {
     "slide_type": "subslide"
    }
   },
   "source": [
    "### Создадим таблички"
   ]
  },
  {
   "cell_type": "code",
   "execution_count": 4,
   "metadata": {},
   "outputs": [],
   "source": [
    "with psycopg2.connect(**params) as conn:\n",
    "    cur = conn.cursor()\n",
    "    # Создадим схему для сегодняшней лекции\n",
    "    cur.execute('DROP SCHEMA IF EXISTS lecture10 cascade;')\n",
    "    cur.execute('CREATE SCHEMA lecture10;')\n",
    "    \n",
    "    # SQL диалект может немного меняться\n",
    "    cur.execute('''\n",
    "        CREATE TABLE lecture10.user_types (\n",
    "            id SERIAL PRIMARY KEY,\n",
    "            name VARCHAR(255)\n",
    "        );\n",
    "    ''')\n",
    "    cur.execute('''\n",
    "        CREATE TABLE lecture10.users (\n",
    "            id SERIAL PRIMARY KEY,\n",
    "            first_name VARCHAR(255),\n",
    "            last_name VARCHAR(255),\n",
    "            active BOOLEAN,\n",
    "            profile INTEGER,\n",
    "            FOREIGN KEY(profile) REFERENCES lecture10.user_types(id)\n",
    "        );\n",
    "    ''')"
   ]
  },
  {
   "cell_type": "code",
   "execution_count": 5,
   "metadata": {},
   "outputs": [],
   "source": [
    "def add_user_types(cur):\n",
    "    cur.execute('''INSERT INTO lecture10.user_types(name) VALUES ('Student')''')\n",
    "    cur.execute('''INSERT INTO lecture10.user_types(name) VALUES ('Teacher')''')\n",
    "\n",
    "def add_teachers(cur):\n",
    "    cur.execute('''\n",
    "        INSERT INTO lecture10.users (first_name, last_name, active, profile)\n",
    "        VALUES ('Maxim', 'Popov', '1', \n",
    "               (SELECT id FROM lecture10.user_types WHERE name = 'Teacher'))''')\n",
    "    cur.execute('''\n",
    "        INSERT INTO lecture10.users (first_name, last_name, active, profile)\n",
    "        VALUES ('Igor', 'Orlov', '1', \n",
    "               (SELECT id FROM lecture10.user_types WHERE name = 'Teacher'))''')\n",
    "\n",
    "def add_students(cur):\n",
    "    cur.execute('''\n",
    "        INSERT INTO lecture10.users (first_name, last_name, active, profile)\n",
    "        VALUES ('Ivan', 'Ivanov', '0', \n",
    "               (SELECT id FROM lecture10.user_types WHERE name = 'Student'))''')\n",
    "    cur.execute('''\n",
    "        INSERT INTO lecture10.users (first_name, last_name, active, profile)\n",
    "        VALUES ('Petr', 'Petrov', '0', \n",
    "               (SELECT id FROM lecture10.user_types WHERE name = 'Student'))''')\n",
    "    cur.execute('''\n",
    "        INSERT INTO lecture10.users (first_name, last_name, active, profile)\n",
    "        VALUES ('Petr', 'Sidorov', '0', \n",
    "               (SELECT id FROM lecture10.user_types WHERE name = 'Student'))''')"
   ]
  },
  {
   "cell_type": "markdown",
   "metadata": {
    "slideshow": {
     "slide_type": "subslide"
    }
   },
   "source": [
    "#### Выполним запросы к базе"
   ]
  },
  {
   "cell_type": "code",
   "execution_count": 6,
   "metadata": {},
   "outputs": [],
   "source": [
    "with psycopg2.connect(**params) as conn:\n",
    "\n",
    "    cur = conn.cursor()\n",
    "    \n",
    "    # Функции добавления пользователей не вызывают commit\n",
    "    add_user_types(cur)\n",
    "    add_teachers(cur)\n",
    "    add_students(cur)\n",
    "    \n",
    "    # Делаем commit для всех запросов добавления\n",
    "    # Если забудем - то таблицы останутся пустыми\n",
    "    conn.commit()"
   ]
  },
  {
   "cell_type": "markdown",
   "metadata": {
    "slideshow": {
     "slide_type": "subslide"
    }
   },
   "source": [
    "#### Попробуем теперь вычитать всех студентов"
   ]
  },
  {
   "cell_type": "code",
   "execution_count": 7,
   "metadata": {},
   "outputs": [
    {
     "name": "stdout",
     "output_type": "stream",
     "text": [
      "Ivan Ivanov\n",
      "Petr Petrov\n",
      "Petr Sidorov\n"
     ]
    }
   ],
   "source": [
    "def select_all_students(conn):\n",
    "    query = '''SELECT first_name\n",
    "                    , last_name \n",
    "                 FROM lecture10.users \n",
    "                WHERE profile = (SELECT id\n",
    "                                   FROM lecture10.user_types\n",
    "                                  WHERE name = 'Student')'''\n",
    "    cur = conn.cursor()\n",
    "    cur.execute(query)\n",
    "\n",
    "    # Получить все строчки результата выполнения query\n",
    "    # Это не всегда быстро, особенно если много результатов\n",
    "    # Кроме того большое потребление памяти, так как возвращается list\n",
    "    rows = cur.fetchall() \n",
    "\n",
    "    # Как fetchall только задаем сколько хотим получить\n",
    "    # rows = cur.fetchmany(10) \n",
    "\n",
    "    for row in rows:\n",
    "        first_name, last_name = row\n",
    "        print(first_name, last_name)\n",
    "        \n",
    "with psycopg2.connect(**params) as conn:\n",
    "    select_all_students(conn)"
   ]
  },
  {
   "cell_type": "code",
   "execution_count": 8,
   "metadata": {
    "slideshow": {
     "slide_type": "subslide"
    }
   },
   "outputs": [
    {
     "name": "stdout",
     "output_type": "stream",
     "text": [
      "Ivan Ivanov\n",
      "Petr Petrov\n",
      "Petr Sidorov\n"
     ]
    }
   ],
   "source": [
    "def select_all_students(conn):\n",
    "    query = '''SELECT first_name\n",
    "                    , last_name \n",
    "                 FROM lecture10.users \n",
    "                WHERE profile = (SELECT id\n",
    "                                   FROM lecture10.user_types\n",
    "                                  WHERE name = 'Student')'''\n",
    "    cur = conn.cursor()\n",
    "    cur.execute(query)\n",
    "\n",
    "    # А лучше просто проитерироваться\n",
    "    for row in cur:\n",
    "        first_name, last_name = row\n",
    "        print(first_name, last_name)\n",
    "        \n",
    "with psycopg2.connect(**params) as conn:\n",
    "    select_all_students(conn)"
   ]
  },
  {
   "cell_type": "markdown",
   "metadata": {
    "slideshow": {
     "slide_type": "subslide"
    }
   },
   "source": [
    "Попробуем сделать учителя Maxim Popov студентом"
   ]
  },
  {
   "cell_type": "code",
   "execution_count": 9,
   "metadata": {},
   "outputs": [
    {
     "name": "stdout",
     "output_type": "stream",
     "text": [
      "[(1, 'Maxim', 'Popov', True, 2), (2, 'Igor', 'Orlov', True, 2), (3, 'Ivan', 'Ivanov', False, 1), (4, 'Petr', 'Petrov', False, 1), (5, 'Petr', 'Sidorov', False, 1)]\n"
     ]
    }
   ],
   "source": [
    "with psycopg2.connect(**params) as conn:\n",
    "    cur = conn.cursor()\n",
    "    cur.execute(\n",
    "        'SELECT * FROM lecture10.users'\n",
    "    )\n",
    "    print(cur.fetchall())"
   ]
  },
  {
   "cell_type": "code",
   "execution_count": 10,
   "metadata": {},
   "outputs": [],
   "source": [
    "def alter_teacher(conn):\n",
    "    cur = conn.cursor()\n",
    "    cur.execute('''\n",
    "        UPDATE lecture10.users\n",
    "           SET profile = (SELECT id\n",
    "                            FROM lecture10.user_types\n",
    "                           WHERE name = 'Student')\n",
    "         WHERE first_name = 'Maxim'\n",
    "           AND last_name = 'Popov'\n",
    "    ''')\n",
    "\n",
    "with  psycopg2.connect(**params) as conn:\n",
    "    alter_teacher(conn)\n",
    "# '''"
   ]
  },
  {
   "cell_type": "markdown",
   "metadata": {},
   "source": [
    "Посмотрим на результат"
   ]
  },
  {
   "cell_type": "code",
   "execution_count": 11,
   "metadata": {},
   "outputs": [
    {
     "name": "stdout",
     "output_type": "stream",
     "text": [
      "Ivan Ivanov\n",
      "Petr Petrov\n",
      "Petr Sidorov\n",
      "Maxim Popov\n"
     ]
    }
   ],
   "source": [
    "with psycopg2.connect(**params) as conn:\n",
    "    select_all_students(conn)"
   ]
  },
  {
   "cell_type": "code",
   "execution_count": 12,
   "metadata": {},
   "outputs": [],
   "source": [
    "# Параметризируем запрос\n",
    "def add_student(cur, first_name, last_name, active):\n",
    "    query = \"\"\"\n",
    "        INSERT INTO lecture10.users (first_name, last_name, active, profile)\n",
    "        VALUES ('{}', '{}', '{}', 1)\"\"\".format(first_name, last_name, active)\n",
    "    print(query)\n",
    "    cur.execute(query)"
   ]
  },
  {
   "cell_type": "code",
   "execution_count": 13,
   "metadata": {},
   "outputs": [
    {
     "name": "stdout",
     "output_type": "stream",
     "text": [
      "\n",
      "        INSERT INTO lecture10.users (first_name, last_name, active, profile)\n",
      "        VALUES ('Victor', 'Victorov', '1', 1)\n",
      "\n",
      "        INSERT INTO lecture10.users (first_name, last_name, active, profile)\n",
      "        VALUES ('Sergey', 'Sergeev', '1', 1)\n"
     ]
    }
   ],
   "source": [
    "with psycopg2.connect(**params) as conn:\n",
    "    cur = conn.cursor()\n",
    "    \n",
    "    add_student(cur, 'Victor', 'Victorov', 1)\n",
    "    add_student(cur, 'Sergey', 'Sergeev', 1)\n",
    "    conn.commit()"
   ]
  },
  {
   "cell_type": "code",
   "execution_count": 14,
   "metadata": {},
   "outputs": [
    {
     "name": "stdout",
     "output_type": "stream",
     "text": [
      "Ivan Ivanov\n",
      "Petr Petrov\n",
      "Petr Sidorov\n",
      "Maxim Popov\n",
      "Victor Victorov\n",
      "Sergey Sergeev\n"
     ]
    }
   ],
   "source": [
    "with psycopg2.connect(**params) as conn:\n",
    "    select_all_students(conn)"
   ]
  },
  {
   "cell_type": "markdown",
   "metadata": {},
   "source": [
    "Where is my table, Lebowski???"
   ]
  },
  {
   "cell_type": "markdown",
   "metadata": {
    "slideshow": {
     "slide_type": "subslide"
    }
   },
   "source": [
    "<img src=\"https://imgs.xkcd.com/comics/exploits_of_a_mom.png\">"
   ]
  },
  {
   "cell_type": "markdown",
   "metadata": {},
   "source": [
    "## Что тогда делать?\n",
    "https://www.psycopg.org/docs/usage.html#query-parameters\n",
    "\n",
    "**Warning Never, never, NEVER use Python string concatenation (+) or string parameters interpolation (%) to pass variables to a SQL query string. Not even at gunpoint.**\n",
    "\n",
    "The correct way to pass variables in a SQL command is using the second argument of the execute() method:\n",
    "\n",
    "```python\n",
    "SQL = \"INSERT INTO authors (name) VALUES (%s);\" # Note: no quotes\n",
    "data = (\"O'Reilly\", )\n",
    "cur.execute(SQL, data) # Note: no % operator\n",
    "```\n",
    "\n",
    "### Перепишем нашу функцию."
   ]
  },
  {
   "cell_type": "code",
   "execution_count": 15,
   "metadata": {},
   "outputs": [],
   "source": [
    "def add_student(cur, first_name, last_name, active):\n",
    "    query = \"\"\"\n",
    "        INSERT INTO lecture10.users (first_name, last_name, active, profile)\n",
    "        VALUES (%s, %s, %s, 1)\"\"\"\n",
    "    print(query)\n",
    "    cur.execute(query, (first_name, last_name, active))"
   ]
  },
  {
   "cell_type": "code",
   "execution_count": 16,
   "metadata": {},
   "outputs": [
    {
     "name": "stdout",
     "output_type": "stream",
     "text": [
      "\n",
      "        INSERT INTO lecture10.users (first_name, last_name, active, profile)\n",
      "        VALUES (%s, %s, %s, 1)\n"
     ]
    }
   ],
   "source": [
    "with psycopg2.connect(**params) as conn:\n",
    "    cur = conn.cursor()\n",
    "    \n",
    "    add_student(cur, 'Anna', 'Chernova', True)\n",
    "    conn.commit()"
   ]
  },
  {
   "cell_type": "code",
   "execution_count": 17,
   "metadata": {},
   "outputs": [
    {
     "name": "stdout",
     "output_type": "stream",
     "text": [
      "Ivan Ivanov\n",
      "Petr Petrov\n",
      "Petr Sidorov\n",
      "Maxim Popov\n",
      "Victor Victorov\n",
      "Sergey Sergeev\n",
      "Anna Chernova\n"
     ]
    }
   ],
   "source": [
    "with psycopg2.connect(**params) as conn:\n",
    "    select_all_students(conn)"
   ]
  },
  {
   "cell_type": "markdown",
   "metadata": {},
   "source": [
    "### Что осталось за бортом?\n",
    "\n",
    "Как обычно, дальше спасает https://www.google.com/"
   ]
  },
  {
   "cell_type": "markdown",
   "metadata": {
    "slideshow": {
     "slide_type": "slide"
    }
   },
   "source": [
    "# ORM\n",
    "\n",
    "ORM (Object-Relational Mapping) — технология программирования, которая\n",
    "связывает базы данных с концепциями объектно-ориентированных языков\n",
    "программирования, создавая «виртуальную объектную базу данных». Существует\n",
    "множество вариантов реализации этой технологии.\n",
    "\n",
    "## Задача\n",
    "\n",
    "Необходимо обеспечить работу с данными в терминах классов, а не таблиц данных и напротив, преобразовать термины и данные классов в данные, пригодные для хранения в СУБД. Необходимо также обеспечить интерфейс для CRUD-операций над данными. В общем, необходимо избавиться от необходимости писать SQL-код для взаимодействия в СУБД.\n",
    "\n",
    "## Решение\n",
    "\n",
    "Решение **проблемы хранения** существует — это реляционные СУБД. Но их использование для хранения объектно-ориентированных данных приводит к семантическому разрыву, заставляя программистов писать программное обеспечение, которое должно уметь как обрабатывать данные в объектно- ориентированном виде, так и уметь сохранить эти данные в реляционной форме.\n",
    "\n",
    "Разработано множество пакетов, устраняющих необходимость в преобразовании объектов для хранения в реляционных базах данных.\n",
    "С точки зрения программиста система должна выглядеть как постоянное хранилище объектов. Он может просто создавать объекты и работать с ними как обычно, а они автоматически будут сохраняться в реляционной базе данных."
   ]
  },
  {
   "cell_type": "markdown",
   "metadata": {},
   "source": [
    "## Peewee\n",
    "\n",
    "http://docs.peewee-orm.com/en/latest/"
   ]
  },
  {
   "cell_type": "code",
   "execution_count": 18,
   "metadata": {},
   "outputs": [],
   "source": [
    "try:\n",
    "    from peewee import *\n",
    "except:\n",
    "    !pip install peewee\n",
    "    from peewee import *\n",
    "\n",
    "db = PostgresqlDatabase(database=\"postgres\", user=\"merkureva\", password=\"1234\", host='localhost')"
   ]
  },
  {
   "cell_type": "code",
   "execution_count": 19,
   "metadata": {},
   "outputs": [],
   "source": [
    "class Person(Model):\n",
    "    name = CharField()\n",
    "    birthday = DateField()\n",
    "    is_relative = BooleanField()\n",
    "    \n",
    "    # другие типы полей:   https://peewee.readthedocs.io/en/latest/peewee/models.html#field-types-table\n",
    "    \n",
    "    class Meta:\n",
    "        database = db # модель будет использовать базу данных 'postgres'"
   ]
  },
  {
   "cell_type": "markdown",
   "metadata": {},
   "source": [
    "Инициализирующие аргументы:\n",
    "- *null=False* – возможно ли хранение null-значений;\n",
    "- *index=False* – создавать ли индекс для данного столбца в базе;\n",
    "- *unique=False* – создавать ли уникальный индекс для данного столбца в базе.\n",
    "- *verbose_name=None* – строка для человекопонятного представления поля;\n",
    "- *help_text=None* – строка с вспомогательным текстом для поля;\n",
    "- *db_column=None* – строка, явно задающая название столбца в базе для данного поля, используется например при работе с legacy-базой данных;\n",
    "- *default=None* – значение по умолчанию для полей класса при инстанцировании;\n",
    "- *choices=None* – список или кортеж двухэлементных кортежей, где первый элемент – значение для базы, второй – отображаемое значение (аналогично джанге);\n",
    "- *primary_key=False* – использовать ли данное поле, как первичный ключ;"
   ]
  },
  {
   "cell_type": "code",
   "execution_count": 20,
   "metadata": {},
   "outputs": [],
   "source": [
    "class Pet(Model):\n",
    "    owner = ForeignKeyField(Person, backref='pets')\n",
    "    name = CharField()\n",
    "    animal_type = CharField()\n",
    "    \n",
    "    class Meta:\n",
    "        database = db # модель будет использовать базу данных 'postgres'"
   ]
  },
  {
   "cell_type": "code",
   "execution_count": 21,
   "metadata": {},
   "outputs": [],
   "source": [
    "# Создаем таблицы в базе со всеми нужными колонками, ключами и сиквенсами (если они нужны)\n",
    "Person.create_table()\n",
    "Pet.create_table()"
   ]
  },
  {
   "cell_type": "code",
   "execution_count": 22,
   "metadata": {},
   "outputs": [
    {
     "data": {
      "text/plain": [
       "1"
      ]
     },
     "execution_count": 22,
     "metadata": {},
     "output_type": "execute_result"
    }
   ],
   "source": [
    "from datetime import date\n",
    "\n",
    "\n",
    "uncle_bob = Person(name='Bob', birthday=date(1960, 1, 15),\n",
    "is_relative=True)\n",
    "uncle_bob.save() # cохраним Боба в базе данных\n",
    "\n",
    "grandma = Person.create(name='Grandma', birthday=date(1935, 3, 1),\n",
    "is_relative=True)\n",
    "herb = Person.create(name='Herb', birthday=date(1950, 5, 5),\n",
    "is_relative=False)\n",
    "\n",
    "grandma.name = 'Grandma L.'\n",
    "\n",
    "grandma.save() # обновим запись grandma"
   ]
  },
  {
   "cell_type": "code",
   "execution_count": 23,
   "metadata": {},
   "outputs": [],
   "source": [
    "bob_kitty = Pet.create(owner=uncle_bob, name='Kitty', animal_type='cat')\n",
    "herb_fido = Pet.create(owner=herb, name='Fido', animal_type='dog')\n",
    "herb_mittens = Pet.create(owner=herb, name='Mittens', animal_type='cat')\n",
    "herb_mittens_jr = Pet.create(owner=herb, name='Mittens Jr', animal_type='cat')"
   ]
  },
  {
   "cell_type": "code",
   "execution_count": 24,
   "metadata": {},
   "outputs": [
    {
     "data": {
      "text/plain": [
       "'Grandma L.'"
      ]
     },
     "execution_count": 24,
     "metadata": {},
     "output_type": "execute_result"
    }
   ],
   "source": [
    "grandma = Person.select().where(Person.name == 'Grandma L.').get()\n",
    "grandma.name"
   ]
  },
  {
   "cell_type": "code",
   "execution_count": 25,
   "metadata": {},
   "outputs": [
    {
     "data": {
      "text/plain": [
       "'Grandma L.'"
      ]
     },
     "execution_count": 25,
     "metadata": {},
     "output_type": "execute_result"
    }
   ],
   "source": [
    "grandma = Person.get(Person.name == 'Grandma L.')\n",
    "grandma.name"
   ]
  },
  {
   "cell_type": "code",
   "execution_count": 26,
   "metadata": {},
   "outputs": [
    {
     "name": "stdout",
     "output_type": "stream",
     "text": [
      "Bob True\n",
      "Herb False\n",
      "Grandma L. True\n"
     ]
    }
   ],
   "source": [
    "for person in Person.select():\n",
    "    print(person.name, person.is_relative)"
   ]
  },
  {
   "cell_type": "code",
   "execution_count": 27,
   "metadata": {},
   "outputs": [
    {
     "name": "stdout",
     "output_type": "stream",
     "text": [
      "Bob 1 pets\n",
      "  Kitty cat\n",
      "Herb 3 pets\n",
      "  Fido dog\n",
      "  Mittens cat\n",
      "  Mittens Jr cat\n",
      "Grandma L. 0 pets\n"
     ]
    }
   ],
   "source": [
    "for person in Person.select():\n",
    "    print(person.name, person.pets.count(), 'pets')\n",
    "    for pet in person.pets:\n",
    "        print (' ', pet.name, pet.animal_type)"
   ]
  },
  {
   "cell_type": "code",
   "execution_count": 28,
   "metadata": {},
   "outputs": [
    {
     "data": {
      "text/plain": [
       "1"
      ]
     },
     "execution_count": 28,
     "metadata": {},
     "output_type": "execute_result"
    }
   ],
   "source": [
    "herb_mittens.delete_instance()\n",
    "herb_fido.owner = uncle_bob\n",
    "herb_fido.save()"
   ]
  },
  {
   "cell_type": "code",
   "execution_count": 29,
   "metadata": {},
   "outputs": [
    {
     "name": "stdout",
     "output_type": "stream",
     "text": [
      "Bob 2 pets\n",
      "  Kitty cat\n",
      "  Fido dog\n",
      "Herb 1 pets\n",
      "  Mittens Jr cat\n",
      "Grandma L. 0 pets\n"
     ]
    }
   ],
   "source": [
    "# агрегация значений\n",
    "for person in Person.select():\n",
    "    print(person.name, person.pets.count(), 'pets')\n",
    "    for pet in person.pets:\n",
    "        print (' ', pet.name, pet.animal_type)"
   ]
  },
  {
   "cell_type": "code",
   "execution_count": 30,
   "metadata": {},
   "outputs": [
    {
     "name": "stdout",
     "output_type": "stream",
     "text": [
      "Kitty Bob\n",
      "Mittens Jr Herb\n"
     ]
    }
   ],
   "source": [
    "query = Pet.select().where(Pet.animal_type == 'cat')\n",
    "for pet in query:\n",
    "    print(pet.name, pet.owner.name)"
   ]
  },
  {
   "cell_type": "code",
   "execution_count": 31,
   "metadata": {},
   "outputs": [
    {
     "name": "stdout",
     "output_type": "stream",
     "text": [
      "Kitty Bob\n",
      "Mittens Jr Herb\n"
     ]
    }
   ],
   "source": [
    "query = (Pet\n",
    "         .select(Pet, Person)\n",
    "         .join(Person)\n",
    "         .where(Pet.animal_type == 'cat'))\n",
    "\n",
    "for pet in query:\n",
    "    print(pet.name, pet.owner.name)"
   ]
  },
  {
   "cell_type": "code",
   "execution_count": 32,
   "metadata": {},
   "outputs": [
    {
     "name": "stdout",
     "output_type": "stream",
     "text": [
      "Kitty\n",
      "Fido\n"
     ]
    }
   ],
   "source": [
    "for pet in Pet.select().join(Person).where(Person.name == 'Bob'):\n",
    "    print(pet.name)"
   ]
  },
  {
   "cell_type": "code",
   "execution_count": 33,
   "metadata": {},
   "outputs": [
    {
     "name": "stdout",
     "output_type": "stream",
     "text": [
      "Bob\n",
      "Herb\n",
      "Grandma L.\n"
     ]
    }
   ],
   "source": [
    "for person in Person.select().order_by(Person.birthday.desc()):\n",
    "    print(person.name)"
   ]
  },
  {
   "cell_type": "code",
   "execution_count": 35,
   "metadata": {},
   "outputs": [
    {
     "name": "stdout",
     "output_type": "stream",
     "text": [
      "Bob 1960-01-15\n",
      "Grandma L. 1935-03-01\n"
     ]
    }
   ],
   "source": [
    "# Используем сложное условие в запросе\n",
    "d1940 = date(1940, 1, 1)\n",
    "d1960 = date(1960, 1, 1)\n",
    "query = (Person\n",
    "         .select()\n",
    "         .where((Person.birthday < d1940) | (Person.birthday > d1960)))\n",
    "\n",
    "for person in query:\n",
    "    print(person.name, person.birthday)"
   ]
  },
  {
   "cell_type": "code",
   "execution_count": 37,
   "metadata": {},
   "outputs": [
    {
     "name": "stdout",
     "output_type": "stream",
     "text": [
      "Herb 1950-05-05\n"
     ]
    }
   ],
   "source": [
    "query = (Person\n",
    "         .select()\n",
    "         .where(Person.birthday.between(d1940, d1960)))\n",
    "\n",
    "for person in query:\n",
    "    print(person.name, person.birthday)"
   ]
  },
  {
   "cell_type": "code",
   "execution_count": 38,
   "metadata": {},
   "outputs": [
    {
     "name": "stdout",
     "output_type": "stream",
     "text": [
      "Bob 2 pets\n",
      "Grandma L. 0 pets\n",
      "Herb 1 pets\n"
     ]
    }
   ],
   "source": [
    "# соединение нескольких таблиц\n",
    "query = (Person\n",
    "         .select(Person, fn.COUNT(Pet.id).alias('pet_count'))\n",
    "         .join(Pet, JOIN.LEFT_OUTER)  # не исключаем людей без животных\n",
    "         .group_by(Person)\n",
    "         .order_by(Person.name))\n",
    "\n",
    "for person in query:\n",
    "    print(person.name, person.pet_count, 'pets')"
   ]
  },
  {
   "cell_type": "code",
   "execution_count": 39,
   "metadata": {},
   "outputs": [
    {
     "data": {
      "text/plain": [
       "True"
      ]
     },
     "execution_count": 39,
     "metadata": {},
     "output_type": "execute_result"
    }
   ],
   "source": [
    "db.close()"
   ]
  },
  {
   "cell_type": "markdown",
   "metadata": {
    "slideshow": {
     "slide_type": "slide"
    }
   },
   "source": [
    "## ORM: плюсы и минусы\n",
    "\n",
    "ORM, по идее, должен избавить нас от написания SQL запросов и, в идеале, вообще абстрагировать от базы данных (от способа хранения данных), чтобы мы могли работать с классами, в той или иной степени выражающими объекты бизнес-логики, не задаваясь вопросом, в каких таблицах всё это по факту лежит.\n",
    "\n",
    "Для примера возьмем две таблицы: книги и авторы книг, отношение многие-ко- многим (у книг может быть много авторов, у авторов может быть много книг). Т.е. в базе это будут books, authors и связующая таблица author_book:\n",
    "\n",
    "```sql\n",
    " CREATE TABLE authors (\n",
    "    id serial\n",
    "  , name varchar(1000) not null\n",
    "  , PRIMARY KEY (id)\n",
    ");\n",
    "CREATE TABLE books (\n",
    "    id serial\n",
    "  , name VARCHAR (1000) not null\n",
    "  , text text not null\n",
    "  , PRIMARY KEY (id)\n",
    ");\n",
    "CREATE TABLE author_book (\n",
    "    author_id bigint REFERENCES authors(id)\n",
    "  , book_id bigint REFERENCES books(id)\n",
    "  , PRIMARY KEY (author_id, book_id)\n",
    ");\n",
    "```"
   ]
  },
  {
   "cell_type": "markdown",
   "metadata": {
    "slideshow": {
     "slide_type": "slide"
    }
   },
   "source": [
    "## ORM: плюсы и минусы\n",
    "\n",
    "### Кейс 1: создание записей\n",
    "\n",
    "- Pure SQL\n",
    "    - Piece of cake. Простые CREATE и INSERT\n",
    "    - Много писанины\n",
    "    - Нужно знать синтаксис SQL\n",
    "- ORM\n",
    "    - Piece of cake. Создаём нужные классы, наполняем\n",
    "    - Много писанины\n",
    "    - Нужно разобраться с ORM"
   ]
  },
  {
   "cell_type": "markdown",
   "metadata": {
    "slideshow": {
     "slide_type": "slide"
    }
   },
   "source": [
    "## ORM: плюсы и минусы\n",
    "\n",
    "### Кейс 2: обновление записей\n",
    "\n",
    "- Pure SQL\n",
    "    - Piece of cake. Просто UPDATE\n",
    "- ORM\n",
    "    - Piece of cake. Пользуемся нужным методом (как с именем бабули ранее)"
   ]
  },
  {
   "cell_type": "markdown",
   "metadata": {
    "slideshow": {
     "slide_type": "slide"
    }
   },
   "source": [
    "## ORM: плюсы и минусы\n",
    "\n",
    "### Кейс 3: простая выборка\n",
    "-  Pure SQL\n",
    "    - Piece of cake. Запрос с агрегацией:\n",
    "    ```sql\n",
    "      select\n",
    "        b.id as book_id\n",
    "        , b.name as book_name\n",
    "        , json_agg(a.name) as authors\n",
    "      from\n",
    "        books b\n",
    "      inner join\n",
    "        author_book ab\n",
    "          on b.id = ab.book_id\n",
    "      inner join\n",
    "        authors a\n",
    "          on ab.author_id = a.id\n",
    "      group by\n",
    "        b.id;\n",
    "```\n",
    "- ORM\n",
    "    - Piece of cake (так ли это?)\n",
    "        - Проходим циклом и находим нужное\n",
    "        - Будет несколько запросов: выборка всех книг и для каждой выборка автора\n",
    "        - С ростом количества данных будет выполняться всё дольше\n",
    "        - Вытянутся все поля, а не только нужные; придётся разбираться с SQL"
   ]
  },
  {
   "cell_type": "markdown",
   "metadata": {},
   "source": [
    "## ORM: плюсы и минусы\n",
    "\n",
    "### Кейс 4: сложное обновление\n",
    "\n",
    "- Pure SQL\n",
    "    - Piece of cake. Простой подзапрос\n",
    "    ```sql\n",
    "      UPDATE authors\n",
    "      SET name = 'Лев Толстой'\n",
    "      WHERE id in (\n",
    "          SELECT\n",
    "            id\n",
    "          FROM\n",
    "            authors\n",
    "          ORDER BY\n",
    "            id DESC\n",
    "          LIMIT 2 );\n",
    "    ```\n",
    "- ORM\n",
    "    - Долгое изучение мануалов\n",
    "    - Никаких подзапросов\n",
    "    - Неоптимально с точки зрения БД"
   ]
  }
 ],
 "metadata": {
  "celltoolbar": "Slideshow",
  "kernelspec": {
   "display_name": "Python 3",
   "language": "python",
   "name": "python3"
  },
  "language_info": {
   "codemirror_mode": {
    "name": "ipython",
    "version": 3
   },
   "file_extension": ".py",
   "mimetype": "text/x-python",
   "name": "python",
   "nbconvert_exporter": "python",
   "pygments_lexer": "ipython3",
   "version": "3.8.2"
  }
 },
 "nbformat": 4,
 "nbformat_minor": 4
}
